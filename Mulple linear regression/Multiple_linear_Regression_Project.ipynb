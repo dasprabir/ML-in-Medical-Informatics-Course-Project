{
 "cells": [
  {
   "cell_type": "code",
   "execution_count": 1,
   "id": "distant-harvest",
   "metadata": {},
   "outputs": [],
   "source": [
    "import numpy as np\n",
    "import pandas as pd\n",
    "import seaborn as sns\n",
    "import matplotlib.pyplot as plt\n",
    "%matplotlib inline"
   ]
  },
  {
   "cell_type": "code",
   "execution_count": 2,
   "id": "useful-repair",
   "metadata": {},
   "outputs": [],
   "source": [
    "data = pd.read_csv('data.csv', sep = ',', header = None)\n",
    "X = data.iloc[:,0:2] # read first two columns into X\n",
    "y = data.iloc[:,2] # read the third column into y\n"
   ]
  },
  {
   "cell_type": "code",
   "execution_count": 3,
   "id": "entitled-refrigerator",
   "metadata": {},
   "outputs": [
    {
     "data": {
      "text/html": [
       "<div>\n",
       "<style scoped>\n",
       "    .dataframe tbody tr th:only-of-type {\n",
       "        vertical-align: middle;\n",
       "    }\n",
       "\n",
       "    .dataframe tbody tr th {\n",
       "        vertical-align: top;\n",
       "    }\n",
       "\n",
       "    .dataframe thead th {\n",
       "        text-align: right;\n",
       "    }\n",
       "</style>\n",
       "<table border=\"1\" class=\"dataframe\">\n",
       "  <thead>\n",
       "    <tr style=\"text-align: right;\">\n",
       "      <th></th>\n",
       "      <th>count</th>\n",
       "      <th>mean</th>\n",
       "      <th>std</th>\n",
       "      <th>min</th>\n",
       "      <th>25%</th>\n",
       "      <th>50%</th>\n",
       "      <th>75%</th>\n",
       "      <th>max</th>\n",
       "    </tr>\n",
       "  </thead>\n",
       "  <tbody>\n",
       "    <tr>\n",
       "      <th>x1</th>\n",
       "      <td>65.0</td>\n",
       "      <td>0.049507</td>\n",
       "      <td>0.035391</td>\n",
       "      <td>0.007996</td>\n",
       "      <td>0.028812</td>\n",
       "      <td>0.042827</td>\n",
       "      <td>0.056725</td>\n",
       "      <td>0.22291</td>\n",
       "    </tr>\n",
       "    <tr>\n",
       "      <th>x2</th>\n",
       "      <td>65.0</td>\n",
       "      <td>111.395385</td>\n",
       "      <td>31.448427</td>\n",
       "      <td>0.000000</td>\n",
       "      <td>95.600000</td>\n",
       "      <td>109.100000</td>\n",
       "      <td>122.600000</td>\n",
       "      <td>199.30000</td>\n",
       "    </tr>\n",
       "    <tr>\n",
       "      <th>x3</th>\n",
       "      <td>65.0</td>\n",
       "      <td>303.581538</td>\n",
       "      <td>132.881441</td>\n",
       "      <td>87.800000</td>\n",
       "      <td>204.600000</td>\n",
       "      <td>290.700000</td>\n",
       "      <td>375.400000</td>\n",
       "      <td>775.90000</td>\n",
       "    </tr>\n",
       "    <tr>\n",
       "      <th>y</th>\n",
       "      <td>65.0</td>\n",
       "      <td>94.830923</td>\n",
       "      <td>7.300808</td>\n",
       "      <td>73.820000</td>\n",
       "      <td>91.420000</td>\n",
       "      <td>98.550000</td>\n",
       "      <td>100.000000</td>\n",
       "      <td>100.00000</td>\n",
       "    </tr>\n",
       "  </tbody>\n",
       "</table>\n",
       "</div>"
      ],
      "text/plain": [
       "    count        mean         std        min         25%         50%  \\\n",
       "x1   65.0    0.049507    0.035391   0.007996    0.028812    0.042827   \n",
       "x2   65.0  111.395385   31.448427   0.000000   95.600000  109.100000   \n",
       "x3   65.0  303.581538  132.881441  87.800000  204.600000  290.700000   \n",
       "y    65.0   94.830923    7.300808  73.820000   91.420000   98.550000   \n",
       "\n",
       "           75%        max  \n",
       "x1    0.056725    0.22291  \n",
       "x2  122.600000  199.30000  \n",
       "x3  375.400000  775.90000  \n",
       "y   100.000000  100.00000  "
      ]
     },
     "execution_count": 3,
     "metadata": {},
     "output_type": "execute_result"
    }
   ],
   "source": [
    "data.columns = ['x1', 'x2', 'x3' , 'y']\n",
    "data.describe().T"
   ]
  },
  {
   "cell_type": "code",
   "execution_count": 4,
   "id": "placed-angola",
   "metadata": {},
   "outputs": [
    {
     "data": {
      "text/plain": [
       "65"
      ]
     },
     "execution_count": 4,
     "metadata": {},
     "output_type": "execute_result"
    }
   ],
   "source": [
    "m = len(y) # no. of training samples\n",
    "m"
   ]
  },
  {
   "cell_type": "code",
   "execution_count": 5,
   "id": "religious-commander",
   "metadata": {},
   "outputs": [
    {
     "data": {
      "text/html": [
       "<div>\n",
       "<style scoped>\n",
       "    .dataframe tbody tr th:only-of-type {\n",
       "        vertical-align: middle;\n",
       "    }\n",
       "\n",
       "    .dataframe tbody tr th {\n",
       "        vertical-align: top;\n",
       "    }\n",
       "\n",
       "    .dataframe thead th {\n",
       "        text-align: right;\n",
       "    }\n",
       "</style>\n",
       "<table border=\"1\" class=\"dataframe\">\n",
       "  <thead>\n",
       "    <tr style=\"text-align: right;\">\n",
       "      <th></th>\n",
       "      <th>x1</th>\n",
       "      <th>x2</th>\n",
       "      <th>x3</th>\n",
       "      <th>y</th>\n",
       "    </tr>\n",
       "  </thead>\n",
       "  <tbody>\n",
       "    <tr>\n",
       "      <th>0</th>\n",
       "      <td>0.186214</td>\n",
       "      <td>97.1</td>\n",
       "      <td>97.2</td>\n",
       "      <td>73.82</td>\n",
       "    </tr>\n",
       "    <tr>\n",
       "      <th>1</th>\n",
       "      <td>0.043601</td>\n",
       "      <td>109.1</td>\n",
       "      <td>389.9</td>\n",
       "      <td>96.31</td>\n",
       "    </tr>\n",
       "    <tr>\n",
       "      <th>2</th>\n",
       "      <td>0.020247</td>\n",
       "      <td>112.8</td>\n",
       "      <td>202.5</td>\n",
       "      <td>100.00</td>\n",
       "    </tr>\n",
       "    <tr>\n",
       "      <th>3</th>\n",
       "      <td>0.079899</td>\n",
       "      <td>139.7</td>\n",
       "      <td>317.9</td>\n",
       "      <td>100.00</td>\n",
       "    </tr>\n",
       "    <tr>\n",
       "      <th>4</th>\n",
       "      <td>0.027489</td>\n",
       "      <td>104.2</td>\n",
       "      <td>269.2</td>\n",
       "      <td>100.00</td>\n",
       "    </tr>\n",
       "  </tbody>\n",
       "</table>\n",
       "</div>"
      ],
      "text/plain": [
       "         x1     x2     x3       y\n",
       "0  0.186214   97.1   97.2   73.82\n",
       "1  0.043601  109.1  389.9   96.31\n",
       "2  0.020247  112.8  202.5  100.00\n",
       "3  0.079899  139.7  317.9  100.00\n",
       "4  0.027489  104.2  269.2  100.00"
      ]
     },
     "execution_count": 5,
     "metadata": {},
     "output_type": "execute_result"
    }
   ],
   "source": [
    "data.head()"
   ]
  },
  {
   "cell_type": "code",
   "execution_count": 6,
   "id": "electronic-writing",
   "metadata": {},
   "outputs": [],
   "source": [
    "def feature_normalize(X, mean=np.zeros(1), std=np.zeros(1)):\n",
    "    X = np.array(X)\n",
    "    if len(mean.shape) == 1 or len(std.shape) == 1:\n",
    "        mean = np.mean(X, axis=0)\n",
    "        std = np.std(X, axis=0, ddof=1)\n",
    "\n",
    "    X = (X - mean)/std\n",
    "    return X, mean, std"
   ]
  },
  {
   "cell_type": "code",
   "execution_count": 7,
   "id": "substantial-adolescent",
   "metadata": {},
   "outputs": [],
   "source": [
    "X_norm, mu, sigma = feature_normalize(data[['x1', 'x2','x3']])"
   ]
  },
  {
   "cell_type": "code",
   "execution_count": 8,
   "id": "owned-seattle",
   "metadata": {},
   "outputs": [
    {
     "data": {
      "text/html": [
       "<div>\n",
       "<style scoped>\n",
       "    .dataframe tbody tr th:only-of-type {\n",
       "        vertical-align: middle;\n",
       "    }\n",
       "\n",
       "    .dataframe tbody tr th {\n",
       "        vertical-align: top;\n",
       "    }\n",
       "\n",
       "    .dataframe thead th {\n",
       "        text-align: right;\n",
       "    }\n",
       "</style>\n",
       "<table border=\"1\" class=\"dataframe\">\n",
       "  <thead>\n",
       "    <tr style=\"text-align: right;\">\n",
       "      <th></th>\n",
       "      <th>count</th>\n",
       "      <th>mean</th>\n",
       "      <th>std</th>\n",
       "      <th>min</th>\n",
       "      <th>25%</th>\n",
       "      <th>50%</th>\n",
       "      <th>75%</th>\n",
       "      <th>max</th>\n",
       "    </tr>\n",
       "  </thead>\n",
       "  <tbody>\n",
       "    <tr>\n",
       "      <th>x1_normalized</th>\n",
       "      <td>65.0</td>\n",
       "      <td>1.631174e-16</td>\n",
       "      <td>1.0</td>\n",
       "      <td>-1.172934</td>\n",
       "      <td>-0.584744</td>\n",
       "      <td>-0.188760</td>\n",
       "      <td>0.203965</td>\n",
       "      <td>4.899674</td>\n",
       "    </tr>\n",
       "    <tr>\n",
       "      <th>x2_normalized</th>\n",
       "      <td>65.0</td>\n",
       "      <td>4.757146e-17</td>\n",
       "      <td>1.0</td>\n",
       "      <td>-3.542161</td>\n",
       "      <td>-0.502263</td>\n",
       "      <td>-0.072989</td>\n",
       "      <td>0.356285</td>\n",
       "      <td>2.795199</td>\n",
       "    </tr>\n",
       "    <tr>\n",
       "      <th>x3_normalized</th>\n",
       "      <td>65.0</td>\n",
       "      <td>-3.945562e-16</td>\n",
       "      <td>1.0</td>\n",
       "      <td>-1.623865</td>\n",
       "      <td>-0.744886</td>\n",
       "      <td>-0.096940</td>\n",
       "      <td>0.540470</td>\n",
       "      <td>3.554435</td>\n",
       "    </tr>\n",
       "  </tbody>\n",
       "</table>\n",
       "</div>"
      ],
      "text/plain": [
       "               count          mean  std       min       25%       50%  \\\n",
       "x1_normalized   65.0  1.631174e-16  1.0 -1.172934 -0.584744 -0.188760   \n",
       "x2_normalized   65.0  4.757146e-17  1.0 -3.542161 -0.502263 -0.072989   \n",
       "x3_normalized   65.0 -3.945562e-16  1.0 -1.623865 -0.744886 -0.096940   \n",
       "\n",
       "                    75%       max  \n",
       "x1_normalized  0.203965  4.899674  \n",
       "x2_normalized  0.356285  2.795199  \n",
       "x3_normalized  0.540470  3.554435  "
      ]
     },
     "execution_count": 8,
     "metadata": {},
     "output_type": "execute_result"
    }
   ],
   "source": [
    "data['x1_normalized'] = X_norm[:,0]\n",
    "data['x2_normalized'] = X_norm[:,1]\n",
    "data['x3_normalized'] = X_norm[:,2]\n",
    "data[['x1_normalized', 'x2_normalized' , 'x3_normalized']].describe().T"
   ]
  },
  {
   "cell_type": "code",
   "execution_count": 9,
   "id": "critical-challenge",
   "metadata": {},
   "outputs": [],
   "source": [
    "def compute_cost(X, y, theta):\n",
    "    m = y.shape[0]\n",
    "    h = X.dot(theta)\n",
    "    J = (1/(2*m)) * ((h-y).T.dot(h-y))\n",
    "    return J"
   ]
  },
  {
   "cell_type": "code",
   "execution_count": 10,
   "id": "aquatic-progress",
   "metadata": {},
   "outputs": [],
   "source": [
    "def gradient_descent(X, y, theta, alpha, num_iters):\n",
    "    m = y.shape[0]\n",
    "    J_history = np.zeros(shape=(num_iters, 1))\n",
    "\n",
    "    for i in range(0, num_iters):\n",
    "        h = X.dot(theta)\n",
    "        diff_hy = h - y\n",
    "\n",
    "        delta = (1/m) * (diff_hy.T.dot(X))\n",
    "        theta = theta - (alpha * delta.T)\n",
    "        J_history[i] = compute_cost(X, y, theta)\n",
    "\n",
    "    return theta, J_history"
   ]
  },
  {
   "cell_type": "code",
   "execution_count": 11,
   "id": "coral-mambo",
   "metadata": {},
   "outputs": [],
   "source": [
    "m = data.shape[0]\n",
    "X = np.hstack((np.ones((m,1)),X_norm))\n",
    "y = np.array(data.y.values).reshape(-1,1)\n",
    "theta = np.zeros(shape=(X.shape[1],1))"
   ]
  },
  {
   "cell_type": "code",
   "execution_count": 12,
   "id": "patent-sucking",
   "metadata": {},
   "outputs": [],
   "source": [
    "alpha = [0.3, 0.1, 0.03, 0.01]\n",
    "colors = ['b','r','g','c']\n",
    "num_iters = 50"
   ]
  },
  {
   "cell_type": "code",
   "execution_count": 13,
   "id": "difficult-consumption",
   "metadata": {},
   "outputs": [
    {
     "data": {
      "image/png": "[encoded data removed]",
      "text/plain": [
       "<Figure size 432x288 with 1 Axes>"
      ]
     },
     "metadata": {
      "needs_background": "light"
     },
     "output_type": "display_data"
    }
   ],
   "source": [
    "for i in range(0, len(alpha)):\n",
    "    theta = np.zeros(shape=(X.shape[1],1))\n",
    "    theta, J_history = gradient_descent(X, y, theta, alpha[i], num_iters)\n",
    "    plt.plot(range(len(J_history)), J_history, colors[i], label='Alpha {}'.format(alpha[i]))\n",
    "plt.xlabel('Number of iterations');\n",
    "plt.ylabel('Cost J');\n",
    "plt.title('Selecting learning rates');\n",
    "plt.legend()\n",
    "plt.show()"
   ]
  },
  {
   "cell_type": "code",
   "execution_count": 14,
   "id": "conservative-airplane",
   "metadata": {},
   "outputs": [
    {
     "name": "stdout",
     "output_type": "stream",
     "text": [
      "Theta found by gradient descent:\n",
      "[[94.83092308]\n",
      " [-1.18346712]\n",
      " [ 0.41467336]\n",
      " [ 0.56342545]]\n"
     ]
    }
   ],
   "source": [
    "iterations = 250\n",
    "alpha = 0.1\n",
    "theta, _ = gradient_descent(X, y, theta, alpha, iterations)\n",
    "\n",
    "print('Theta found by gradient descent:')\n",
    "print(theta)"
   ]
  },
  {
   "cell_type": "code",
   "execution_count": 15,
   "id": "bizarre-smith",
   "metadata": {},
   "outputs": [
    {
     "data": {
      "text/plain": [
       "'Relative volume of organ receiving dose of 900: 93.36223663941259'"
      ]
     },
     "execution_count": 15,
     "metadata": {},
     "output_type": "execute_result"
    }
   ],
   "source": [
    "x1 = (0.057768924 - mu[0])/sigma[0]\n",
    "x2 = (86.3 - mu[1])/sigma[1]\n",
    "x3 = (100.4 - mu[2])/sigma[2]\n",
    "y_pred = theta[0] + theta[1]*x1 + theta[2]*x2 + theta[3]*x3 \n",
    "f'Relative volume of organ receiving dose of 900: {y_pred[0]}'"
   ]
  },
  {
   "cell_type": "code",
   "execution_count": 16,
   "id": "polish-fleece",
   "metadata": {},
   "outputs": [],
   "source": [
    "data_test = pd.read_csv('Test_data.csv', sep = ',', header = None)\n",
    "X_new = data_test.iloc[:,0:2] # read first two columns into X X_new = data_test(:, 1:3)\n"
   ]
  },
  {
   "cell_type": "code",
   "execution_count": 17,
   "id": "chubby-niger",
   "metadata": {},
   "outputs": [
    {
     "data": {
      "text/html": [
       "<div>\n",
       "<style scoped>\n",
       "    .dataframe tbody tr th:only-of-type {\n",
       "        vertical-align: middle;\n",
       "    }\n",
       "\n",
       "    .dataframe tbody tr th {\n",
       "        vertical-align: top;\n",
       "    }\n",
       "\n",
       "    .dataframe thead th {\n",
       "        text-align: right;\n",
       "    }\n",
       "</style>\n",
       "<table border=\"1\" class=\"dataframe\">\n",
       "  <thead>\n",
       "    <tr style=\"text-align: right;\">\n",
       "      <th></th>\n",
       "      <th>0</th>\n",
       "      <th>1</th>\n",
       "      <th>2</th>\n",
       "    </tr>\n",
       "  </thead>\n",
       "  <tbody>\n",
       "    <tr>\n",
       "      <th>0</th>\n",
       "      <td>0.057769</td>\n",
       "      <td>86.3</td>\n",
       "      <td>100.4</td>\n",
       "    </tr>\n",
       "    <tr>\n",
       "      <th>1</th>\n",
       "      <td>0.059804</td>\n",
       "      <td>134.3</td>\n",
       "      <td>234.1</td>\n",
       "    </tr>\n",
       "    <tr>\n",
       "      <th>2</th>\n",
       "      <td>0.039129</td>\n",
       "      <td>93.0</td>\n",
       "      <td>247.9</td>\n",
       "    </tr>\n",
       "    <tr>\n",
       "      <th>3</th>\n",
       "      <td>0.050830</td>\n",
       "      <td>111.1</td>\n",
       "      <td>198.7</td>\n",
       "    </tr>\n",
       "    <tr>\n",
       "      <th>4</th>\n",
       "      <td>0.038040</td>\n",
       "      <td>141.2</td>\n",
       "      <td>328.6</td>\n",
       "    </tr>\n",
       "  </tbody>\n",
       "</table>\n",
       "</div>"
      ],
      "text/plain": [
       "          0      1      2\n",
       "0  0.057769   86.3  100.4\n",
       "1  0.059804  134.3  234.1\n",
       "2  0.039129   93.0  247.9\n",
       "3  0.050830  111.1  198.7\n",
       "4  0.038040  141.2  328.6"
      ]
     },
     "execution_count": 17,
     "metadata": {},
     "output_type": "execute_result"
    }
   ],
   "source": [
    "data_test.head()"
   ]
  },
  {
   "cell_type": "code",
   "execution_count": 18,
   "id": "developing-amazon",
   "metadata": {},
   "outputs": [
    {
     "data": {
      "text/html": [
       "<div>\n",
       "<style scoped>\n",
       "    .dataframe tbody tr th:only-of-type {\n",
       "        vertical-align: middle;\n",
       "    }\n",
       "\n",
       "    .dataframe tbody tr th {\n",
       "        vertical-align: top;\n",
       "    }\n",
       "\n",
       "    .dataframe thead th {\n",
       "        text-align: right;\n",
       "    }\n",
       "</style>\n",
       "<table border=\"1\" class=\"dataframe\">\n",
       "  <thead>\n",
       "    <tr style=\"text-align: right;\">\n",
       "      <th></th>\n",
       "      <th>count</th>\n",
       "      <th>mean</th>\n",
       "      <th>std</th>\n",
       "      <th>min</th>\n",
       "      <th>25%</th>\n",
       "      <th>50%</th>\n",
       "      <th>75%</th>\n",
       "      <th>max</th>\n",
       "    </tr>\n",
       "  </thead>\n",
       "  <tbody>\n",
       "    <tr>\n",
       "      <th>x1</th>\n",
       "      <td>10.0</td>\n",
       "      <td>0.055504</td>\n",
       "      <td>0.018941</td>\n",
       "      <td>0.036264</td>\n",
       "      <td>0.039916</td>\n",
       "      <td>0.0543</td>\n",
       "      <td>0.060362</td>\n",
       "      <td>0.096964</td>\n",
       "    </tr>\n",
       "    <tr>\n",
       "      <th>x2</th>\n",
       "      <td>10.0</td>\n",
       "      <td>112.420000</td>\n",
       "      <td>25.885165</td>\n",
       "      <td>86.300000</td>\n",
       "      <td>90.075000</td>\n",
       "      <td>102.1500</td>\n",
       "      <td>134.000000</td>\n",
       "      <td>154.300000</td>\n",
       "    </tr>\n",
       "    <tr>\n",
       "      <th>x3</th>\n",
       "      <td>10.0</td>\n",
       "      <td>227.480000</td>\n",
       "      <td>122.352204</td>\n",
       "      <td>89.900000</td>\n",
       "      <td>126.250000</td>\n",
       "      <td>221.1000</td>\n",
       "      <td>266.725000</td>\n",
       "      <td>492.000000</td>\n",
       "    </tr>\n",
       "  </tbody>\n",
       "</table>\n",
       "</div>"
      ],
      "text/plain": [
       "    count        mean         std        min         25%       50%  \\\n",
       "x1   10.0    0.055504    0.018941   0.036264    0.039916    0.0543   \n",
       "x2   10.0  112.420000   25.885165  86.300000   90.075000  102.1500   \n",
       "x3   10.0  227.480000  122.352204  89.900000  126.250000  221.1000   \n",
       "\n",
       "           75%         max  \n",
       "x1    0.060362    0.096964  \n",
       "x2  134.000000  154.300000  \n",
       "x3  266.725000  492.000000  "
      ]
     },
     "execution_count": 18,
     "metadata": {},
     "output_type": "execute_result"
    }
   ],
   "source": [
    "data_test.columns = ['x1', 'x2', 'x3' ]\n",
    "data_test.describe().T"
   ]
  },
  {
   "cell_type": "code",
   "execution_count": 19,
   "id": "angry-oasis",
   "metadata": {},
   "outputs": [
    {
     "data": {
      "text/html": [
       "<div>\n",
       "<style scoped>\n",
       "    .dataframe tbody tr th:only-of-type {\n",
       "        vertical-align: middle;\n",
       "    }\n",
       "\n",
       "    .dataframe tbody tr th {\n",
       "        vertical-align: top;\n",
       "    }\n",
       "\n",
       "    .dataframe thead th {\n",
       "        text-align: right;\n",
       "    }\n",
       "</style>\n",
       "<table border=\"1\" class=\"dataframe\">\n",
       "  <thead>\n",
       "    <tr style=\"text-align: right;\">\n",
       "      <th></th>\n",
       "      <th>x1</th>\n",
       "      <th>x2</th>\n",
       "      <th>x3</th>\n",
       "    </tr>\n",
       "  </thead>\n",
       "  <tbody>\n",
       "    <tr>\n",
       "      <th>0</th>\n",
       "      <td>0.057769</td>\n",
       "      <td>86.3</td>\n",
       "      <td>100.4</td>\n",
       "    </tr>\n",
       "    <tr>\n",
       "      <th>1</th>\n",
       "      <td>0.059804</td>\n",
       "      <td>134.3</td>\n",
       "      <td>234.1</td>\n",
       "    </tr>\n",
       "    <tr>\n",
       "      <th>2</th>\n",
       "      <td>0.039129</td>\n",
       "      <td>93.0</td>\n",
       "      <td>247.9</td>\n",
       "    </tr>\n",
       "    <tr>\n",
       "      <th>3</th>\n",
       "      <td>0.050830</td>\n",
       "      <td>111.1</td>\n",
       "      <td>198.7</td>\n",
       "    </tr>\n",
       "    <tr>\n",
       "      <th>4</th>\n",
       "      <td>0.038040</td>\n",
       "      <td>141.2</td>\n",
       "      <td>328.6</td>\n",
       "    </tr>\n",
       "  </tbody>\n",
       "</table>\n",
       "</div>"
      ],
      "text/plain": [
       "         x1     x2     x3\n",
       "0  0.057769   86.3  100.4\n",
       "1  0.059804  134.3  234.1\n",
       "2  0.039129   93.0  247.9\n",
       "3  0.050830  111.1  198.7\n",
       "4  0.038040  141.2  328.6"
      ]
     },
     "execution_count": 19,
     "metadata": {},
     "output_type": "execute_result"
    }
   ],
   "source": [
    "data_test.head()"
   ]
  },
  {
   "cell_type": "code",
   "execution_count": 20,
   "id": "stunning-symposium",
   "metadata": {},
   "outputs": [],
   "source": [
    "X_new = data_test"
   ]
  },
  {
   "cell_type": "code",
   "execution_count": 30,
   "id": "outstanding-ecuador",
   "metadata": {},
   "outputs": [],
   "source": [
    "X_nn = (X_new - np.mean(X_new))/np.std(X_new)"
   ]
  },
  {
   "cell_type": "code",
   "execution_count": 28,
   "id": "committed-interaction",
   "metadata": {},
   "outputs": [
    {
     "data": {
      "text/html": [
       "<div>\n",
       "<style scoped>\n",
       "    .dataframe tbody tr th:only-of-type {\n",
       "        vertical-align: middle;\n",
       "    }\n",
       "\n",
       "    .dataframe tbody tr th {\n",
       "        vertical-align: top;\n",
       "    }\n",
       "\n",
       "    .dataframe thead th {\n",
       "        text-align: right;\n",
       "    }\n",
       "</style>\n",
       "<table border=\"1\" class=\"dataframe\">\n",
       "  <thead>\n",
       "    <tr style=\"text-align: right;\">\n",
       "      <th></th>\n",
       "      <th>x1</th>\n",
       "      <th>x2</th>\n",
       "      <th>x3</th>\n",
       "    </tr>\n",
       "  </thead>\n",
       "  <tbody>\n",
       "    <tr>\n",
       "      <th>0</th>\n",
       "      <td>0.126055</td>\n",
       "      <td>-1.063655</td>\n",
       "      <td>-1.094824</td>\n",
       "    </tr>\n",
       "    <tr>\n",
       "      <th>1</th>\n",
       "      <td>0.239281</td>\n",
       "      <td>0.890995</td>\n",
       "      <td>0.057033</td>\n",
       "    </tr>\n",
       "    <tr>\n",
       "      <th>2</th>\n",
       "      <td>-0.911292</td>\n",
       "      <td>-0.790819</td>\n",
       "      <td>0.175923</td>\n",
       "    </tr>\n",
       "    <tr>\n",
       "      <th>3</th>\n",
       "      <td>-0.260081</td>\n",
       "      <td>-0.053753</td>\n",
       "      <td>-0.247946</td>\n",
       "    </tr>\n",
       "    <tr>\n",
       "      <th>4</th>\n",
       "      <td>-0.971869</td>\n",
       "      <td>1.171976</td>\n",
       "      <td>0.871172</td>\n",
       "    </tr>\n",
       "    <tr>\n",
       "      <th>5</th>\n",
       "      <td>-0.736118</td>\n",
       "      <td>1.705432</td>\n",
       "      <td>2.278901</td>\n",
       "    </tr>\n",
       "    <tr>\n",
       "      <th>6</th>\n",
       "      <td>0.280702</td>\n",
       "      <td>0.842128</td>\n",
       "      <td>-0.166963</td>\n",
       "    </tr>\n",
       "    <tr>\n",
       "      <th>7</th>\n",
       "      <td>0.996768</td>\n",
       "      <td>-0.969995</td>\n",
       "      <td>-1.185284</td>\n",
       "    </tr>\n",
       "    <tr>\n",
       "      <th>8</th>\n",
       "      <td>-1.070729</td>\n",
       "      <td>-0.949634</td>\n",
       "      <td>0.392165</td>\n",
       "    </tr>\n",
       "    <tr>\n",
       "      <th>9</th>\n",
       "      <td>2.307284</td>\n",
       "      <td>-0.782675</td>\n",
       "      <td>-1.080178</td>\n",
       "    </tr>\n",
       "  </tbody>\n",
       "</table>\n",
       "</div>"
      ],
      "text/plain": [
       "         x1        x2        x3\n",
       "0  0.126055 -1.063655 -1.094824\n",
       "1  0.239281  0.890995  0.057033\n",
       "2 -0.911292 -0.790819  0.175923\n",
       "3 -0.260081 -0.053753 -0.247946\n",
       "4 -0.971869  1.171976  0.871172\n",
       "5 -0.736118  1.705432  2.278901\n",
       "6  0.280702  0.842128 -0.166963\n",
       "7  0.996768 -0.969995 -1.185284\n",
       "8 -1.070729 -0.949634  0.392165\n",
       "9  2.307284 -0.782675 -1.080178"
      ]
     },
     "execution_count": 28,
     "metadata": {},
     "output_type": "execute_result"
    }
   ],
   "source": [
    "X_nn"
   ]
  },
  {
   "cell_type": "code",
   "execution_count": 47,
   "id": "bored-clear",
   "metadata": {},
   "outputs": [],
   "source": [
    "n,m = X_nn.shape # for generality\n",
    "X0 = np.ones((n,1))\n",
    "Xnew = np.hstack((X0,X_nn))\n"
   ]
  },
  {
   "cell_type": "code",
   "execution_count": 48,
   "id": "everyday-firmware",
   "metadata": {},
   "outputs": [
    {
     "data": {
      "text/plain": [
       "array([[ 1.        ,  0.12605452, -1.06365547, -1.09482361],\n",
       "       [ 1.        ,  0.23928074,  0.8909947 ,  0.05703283],\n",
       "       [ 1.        , -0.91129244, -0.79081888,  0.17592303],\n",
       "       [ 1.        , -0.26008094, -0.05375288, -0.24794636],\n",
       "       [ 1.        , -0.97186909,  1.17197566,  0.8711722 ],\n",
       "       [ 1.        , -0.73611765,  1.70543227,  2.27890102],\n",
       "       [ 1.        ,  0.28070234,  0.84212845, -0.16696319],\n",
       "       [ 1.        ,  0.99676799, -0.96999515, -1.18528354],\n",
       "       [ 1.        , -1.07072931, -0.94963421,  0.39216534],\n",
       "       [ 1.        ,  2.30728385, -0.78267451, -1.08017772]])"
      ]
     },
     "execution_count": 48,
     "metadata": {},
     "output_type": "execute_result"
    }
   ],
   "source": [
    "Xnew"
   ]
  },
  {
   "cell_type": "code",
   "execution_count": 50,
   "id": "stable-hello",
   "metadata": {},
   "outputs": [],
   "source": [
    "y_new = np.dot(Xnew,theta)"
   ]
  },
  {
   "cell_type": "code",
   "execution_count": 51,
   "id": "mechanical-track",
   "metadata": {},
   "outputs": [
    {
     "data": {
      "text/plain": [
       "array([[93.62382063],\n",
       "       [94.9493477 ],\n",
       "       [95.6805957 ],\n",
       "       [94.97673115],\n",
       "       [96.95792587],\n",
       "       [97.69328228],\n",
       "       [94.75385801],\n",
       "       [92.58123088],\n",
       "       [95.92526393],\n",
       "       [91.16717462]])"
      ]
     },
     "execution_count": 51,
     "metadata": {},
     "output_type": "execute_result"
    }
   ],
   "source": [
    "y_new"
   ]
  },
  {
   "cell_type": "code",
   "execution_count": null,
   "id": "colored-importance",
   "metadata": {},
   "outputs": [],
   "source": []
  }
 ],
 "metadata": {
  "kernelspec": {
   "display_name": "Python 3",
   "language": "python",
   "name": "python3"
  },
  "language_info": {
   "codemirror_mode": {
    "name": "ipython",
    "version": 3
   },
   "file_extension": ".py",
   "mimetype": "text/x-python",
   "name": "python",
   "nbconvert_exporter": "python",
   "pygments_lexer": "ipython3",
   "version": "3.8.3"
  }
 },
 "nbformat": 4,
 "nbformat_minor": 5
}
